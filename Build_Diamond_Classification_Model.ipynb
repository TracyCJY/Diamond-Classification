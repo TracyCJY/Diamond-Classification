{
  "cells": [
    {
      "cell_type": "markdown",
      "id": "ad7ec371",
      "metadata": {
        "id": "ad7ec371"
      },
      "source": [
        "# Import Libraries\n",
        "- Put all the important libraries together at the beginning to improve the readability, performance, and maintainability of the code"
      ]
    },
    {
      "cell_type": "code",
      "execution_count": 1,
      "id": "f95690dd",
      "metadata": {
        "id": "f95690dd"
      },
      "outputs": [],
      "source": [
        "import pandas as pd # data processing, like pd.read_csv()\n",
        "import numpy as np # linear algebra\n",
        "import warnings# to make all the coding result more readable, ignnore the warning information\n",
        "warnings.filterwarnings('ignore')\n",
        "#import matplot and seaborn to draw the figures\n",
        "import matplotlib.pyplot as plt\n",
        "import seaborn as sns\n",
        "# for the model split into train and test data, import train_test_spit\n",
        "from sklearn.model_selection import train_test_split\n",
        "# to scaler the attributes, import the StandardScaler to process\n",
        "from sklearn.preprocessing import StandardScaler"
      ]
    },
    {
      "cell_type": "markdown",
      "id": "1acd956e",
      "metadata": {
        "id": "1acd956e"
      },
      "source": [
        "# Get the Data"
      ]
    },
    {
      "cell_type": "code",
      "execution_count": 4,
      "id": "76cef3ef",
      "metadata": {
        "id": "76cef3ef"
      },
      "outputs": [],
      "source": [
        "from pathlib import Path\n",
        "diamond=pd.read_csv(Path('DiamondDataSet.csv'))# use .read_csv() method to get the whole data"
      ]
    },
    {
      "cell_type": "markdown",
      "id": "b80b994a",
      "metadata": {
        "id": "b80b994a"
      },
      "source": [
        "# Exploratory data analysis"
      ]
    },
    {
      "cell_type": "markdown",
      "id": "326c4008",
      "metadata": {
        "id": "326c4008"
      },
      "source": [
        "## Dataset Dimensions"
      ]
    },
    {
      "cell_type": "code",
      "execution_count": 5,
      "id": "7eef9743",
      "metadata": {
        "colab": {
          "base_uri": "https://localhost:8080/"
        },
        "id": "7eef9743",
        "outputId": "6136027a-d7ed-43a1-be3e-ab74f25db9d2"
      },
      "outputs": [
        {
          "output_type": "execute_result",
          "data": {
            "text/plain": [
              "(10000, 10)"
            ]
          },
          "metadata": {},
          "execution_count": 5
        }
      ],
      "source": [
        "diamond.shape # check the dataset, there are 10000 instances and 10 attributes"
      ]
    },
    {
      "cell_type": "markdown",
      "id": "0162f8be",
      "metadata": {
        "id": "0162f8be"
      },
      "source": [
        "## Preview the dataset"
      ]
    },
    {
      "cell_type": "code",
      "execution_count": 6,
      "id": "2db675a0",
      "metadata": {
        "colab": {
          "base_uri": "https://localhost:8080/",
          "height": 206
        },
        "id": "2db675a0",
        "outputId": "7c8e046e-1b83-4e90-d321-f0484b0fad7f"
      },
      "outputs": [
        {
          "output_type": "execute_result",
          "data": {
            "text/plain": [
              "   carat        cut colour clarity  Length  Width  height  depth ratio  table  \\\n",
              "0   1.20  Very Good      H     SI2    6.74   6.77    4.25         62.9   56.0   \n",
              "1   0.60      Ideal      G    VVS2    5.37   5.41    3.31         61.4   59.0   \n",
              "2   0.23      Ideal      G      IF    3.93   3.96    2.48         62.8   55.0   \n",
              "3   1.51  Very Good      D     VS2    7.29   7.34    4.56         62.3   59.0   \n",
              "4   1.01  Very Good      D    VVS2    6.51   6.57    3.94         60.2   58.0   \n",
              "\n",
              "  Grading  \n",
              "0   Mid    \n",
              "1   Mid    \n",
              "2   Low    \n",
              "3  High    \n",
              "4  High    "
            ],
            "text/html": [
              "\n",
              "  <div id=\"df-141fe5f4-9f96-4217-887e-bc15cd0dd222\">\n",
              "    <div class=\"colab-df-container\">\n",
              "      <div>\n",
              "<style scoped>\n",
              "    .dataframe tbody tr th:only-of-type {\n",
              "        vertical-align: middle;\n",
              "    }\n",
              "\n",
              "    .dataframe tbody tr th {\n",
              "        vertical-align: top;\n",
              "    }\n",
              "\n",
              "    .dataframe thead th {\n",
              "        text-align: right;\n",
              "    }\n",
              "</style>\n",
              "<table border=\"1\" class=\"dataframe\">\n",
              "  <thead>\n",
              "    <tr style=\"text-align: right;\">\n",
              "      <th></th>\n",
              "      <th>carat</th>\n",
              "      <th>cut</th>\n",
              "      <th>colour</th>\n",
              "      <th>clarity</th>\n",
              "      <th>Length</th>\n",
              "      <th>Width</th>\n",
              "      <th>height</th>\n",
              "      <th>depth ratio</th>\n",
              "      <th>table</th>\n",
              "      <th>Grading</th>\n",
              "    </tr>\n",
              "  </thead>\n",
              "  <tbody>\n",
              "    <tr>\n",
              "      <th>0</th>\n",
              "      <td>1.20</td>\n",
              "      <td>Very Good</td>\n",
              "      <td>H</td>\n",
              "      <td>SI2</td>\n",
              "      <td>6.74</td>\n",
              "      <td>6.77</td>\n",
              "      <td>4.25</td>\n",
              "      <td>62.9</td>\n",
              "      <td>56.0</td>\n",
              "      <td>Mid</td>\n",
              "    </tr>\n",
              "    <tr>\n",
              "      <th>1</th>\n",
              "      <td>0.60</td>\n",
              "      <td>Ideal</td>\n",
              "      <td>G</td>\n",
              "      <td>VVS2</td>\n",
              "      <td>5.37</td>\n",
              "      <td>5.41</td>\n",
              "      <td>3.31</td>\n",
              "      <td>61.4</td>\n",
              "      <td>59.0</td>\n",
              "      <td>Mid</td>\n",
              "    </tr>\n",
              "    <tr>\n",
              "      <th>2</th>\n",
              "      <td>0.23</td>\n",
              "      <td>Ideal</td>\n",
              "      <td>G</td>\n",
              "      <td>IF</td>\n",
              "      <td>3.93</td>\n",
              "      <td>3.96</td>\n",
              "      <td>2.48</td>\n",
              "      <td>62.8</td>\n",
              "      <td>55.0</td>\n",
              "      <td>Low</td>\n",
              "    </tr>\n",
              "    <tr>\n",
              "      <th>3</th>\n",
              "      <td>1.51</td>\n",
              "      <td>Very Good</td>\n",
              "      <td>D</td>\n",
              "      <td>VS2</td>\n",
              "      <td>7.29</td>\n",
              "      <td>7.34</td>\n",
              "      <td>4.56</td>\n",
              "      <td>62.3</td>\n",
              "      <td>59.0</td>\n",
              "      <td>High</td>\n",
              "    </tr>\n",
              "    <tr>\n",
              "      <th>4</th>\n",
              "      <td>1.01</td>\n",
              "      <td>Very Good</td>\n",
              "      <td>D</td>\n",
              "      <td>VVS2</td>\n",
              "      <td>6.51</td>\n",
              "      <td>6.57</td>\n",
              "      <td>3.94</td>\n",
              "      <td>60.2</td>\n",
              "      <td>58.0</td>\n",
              "      <td>High</td>\n",
              "    </tr>\n",
              "  </tbody>\n",
              "</table>\n",
              "</div>\n",
              "      <button class=\"colab-df-convert\" onclick=\"convertToInteractive('df-141fe5f4-9f96-4217-887e-bc15cd0dd222')\"\n",
              "              title=\"Convert this dataframe to an interactive table.\"\n",
              "              style=\"display:none;\">\n",
              "        \n",
              "  <svg xmlns=\"http://www.w3.org/2000/svg\" height=\"24px\"viewBox=\"0 0 24 24\"\n",
              "       width=\"24px\">\n",
              "    <path d=\"M0 0h24v24H0V0z\" fill=\"none\"/>\n",
              "    <path d=\"M18.56 5.44l.94 2.06.94-2.06 2.06-.94-2.06-.94-.94-2.06-.94 2.06-2.06.94zm-11 1L8.5 8.5l.94-2.06 2.06-.94-2.06-.94L8.5 2.5l-.94 2.06-2.06.94zm10 10l.94 2.06.94-2.06 2.06-.94-2.06-.94-.94-2.06-.94 2.06-2.06.94z\"/><path d=\"M17.41 7.96l-1.37-1.37c-.4-.4-.92-.59-1.43-.59-.52 0-1.04.2-1.43.59L10.3 9.45l-7.72 7.72c-.78.78-.78 2.05 0 2.83L4 21.41c.39.39.9.59 1.41.59.51 0 1.02-.2 1.41-.59l7.78-7.78 2.81-2.81c.8-.78.8-2.07 0-2.86zM5.41 20L4 18.59l7.72-7.72 1.47 1.35L5.41 20z\"/>\n",
              "  </svg>\n",
              "      </button>\n",
              "      \n",
              "  <style>\n",
              "    .colab-df-container {\n",
              "      display:flex;\n",
              "      flex-wrap:wrap;\n",
              "      gap: 12px;\n",
              "    }\n",
              "\n",
              "    .colab-df-convert {\n",
              "      background-color: #E8F0FE;\n",
              "      border: none;\n",
              "      border-radius: 50%;\n",
              "      cursor: pointer;\n",
              "      display: none;\n",
              "      fill: #1967D2;\n",
              "      height: 32px;\n",
              "      padding: 0 0 0 0;\n",
              "      width: 32px;\n",
              "    }\n",
              "\n",
              "    .colab-df-convert:hover {\n",
              "      background-color: #E2EBFA;\n",
              "      box-shadow: 0px 1px 2px rgba(60, 64, 67, 0.3), 0px 1px 3px 1px rgba(60, 64, 67, 0.15);\n",
              "      fill: #174EA6;\n",
              "    }\n",
              "\n",
              "    [theme=dark] .colab-df-convert {\n",
              "      background-color: #3B4455;\n",
              "      fill: #D2E3FC;\n",
              "    }\n",
              "\n",
              "    [theme=dark] .colab-df-convert:hover {\n",
              "      background-color: #434B5C;\n",
              "      box-shadow: 0px 1px 3px 1px rgba(0, 0, 0, 0.15);\n",
              "      filter: drop-shadow(0px 1px 2px rgba(0, 0, 0, 0.3));\n",
              "      fill: #FFFFFF;\n",
              "    }\n",
              "  </style>\n",
              "\n",
              "      <script>\n",
              "        const buttonEl =\n",
              "          document.querySelector('#df-141fe5f4-9f96-4217-887e-bc15cd0dd222 button.colab-df-convert');\n",
              "        buttonEl.style.display =\n",
              "          google.colab.kernel.accessAllowed ? 'block' : 'none';\n",
              "\n",
              "        async function convertToInteractive(key) {\n",
              "          const element = document.querySelector('#df-141fe5f4-9f96-4217-887e-bc15cd0dd222');\n",
              "          const dataTable =\n",
              "            await google.colab.kernel.invokeFunction('convertToInteractive',\n",
              "                                                     [key], {});\n",
              "          if (!dataTable) return;\n",
              "\n",
              "          const docLinkHtml = 'Like what you see? Visit the ' +\n",
              "            '<a target=\"_blank\" href=https://colab.research.google.com/notebooks/data_table.ipynb>data table notebook</a>'\n",
              "            + ' to learn more about interactive tables.';\n",
              "          element.innerHTML = '';\n",
              "          dataTable['output_type'] = 'display_data';\n",
              "          await google.colab.output.renderOutput(dataTable, element);\n",
              "          const docLink = document.createElement('div');\n",
              "          docLink.innerHTML = docLinkHtml;\n",
              "          element.appendChild(docLink);\n",
              "        }\n",
              "      </script>\n",
              "    </div>\n",
              "  </div>\n",
              "  "
            ]
          },
          "metadata": {},
          "execution_count": 6
        }
      ],
      "source": [
        "diamond.head()"
      ]
    },
    {
      "cell_type": "markdown",
      "id": "f939037d",
      "metadata": {
        "id": "f939037d"
      },
      "source": [
        "## Rename the column names"
      ]
    },
    {
      "cell_type": "code",
      "execution_count": 7,
      "id": "1335ac2a",
      "metadata": {
        "colab": {
          "base_uri": "https://localhost:8080/"
        },
        "id": "1335ac2a",
        "outputId": "76e09f2b-5224-42e2-be7e-89489bbc7368"
      },
      "outputs": [
        {
          "output_type": "execute_result",
          "data": {
            "text/plain": [
              "Index(['carat', 'cut', 'colour', 'clarity', 'length', 'width', 'height',\n",
              "       'depth_ratio', 'table', 'grading'],\n",
              "      dtype='object')"
            ]
          },
          "metadata": {},
          "execution_count": 7
        }
      ],
      "source": [
        "# Unify lowercase column names and replace spaces with underscores\n",
        "col_names=['carat','cut','colour','clarity','length','width','height','depth_ratio','table','grading']# store all the column names into one list\n",
        "diamond.columns=col_names# use .columns to change\n",
        "diamond.columns"
      ]
    },
    {
      "cell_type": "markdown",
      "id": "abafc732",
      "metadata": {
        "id": "abafc732"
      },
      "source": [
        "## View summary of the dataset"
      ]
    },
    {
      "cell_type": "code",
      "execution_count": 8,
      "id": "7d266e69",
      "metadata": {
        "scrolled": true,
        "colab": {
          "base_uri": "https://localhost:8080/"
        },
        "id": "7d266e69",
        "outputId": "bebe0731-7c70-47e5-f23d-842f7be9b919"
      },
      "outputs": [
        {
          "output_type": "stream",
          "name": "stdout",
          "text": [
            "<class 'pandas.core.frame.DataFrame'>\n",
            "RangeIndex: 10000 entries, 0 to 9999\n",
            "Data columns (total 10 columns):\n",
            " #   Column       Non-Null Count  Dtype  \n",
            "---  ------       --------------  -----  \n",
            " 0   carat        10000 non-null  float64\n",
            " 1   cut          10000 non-null  object \n",
            " 2   colour       10000 non-null  object \n",
            " 3   clarity      10000 non-null  object \n",
            " 4   length       10000 non-null  float64\n",
            " 5   width        10000 non-null  float64\n",
            " 6   height       10000 non-null  float64\n",
            " 7   depth_ratio  10000 non-null  float64\n",
            " 8   table        10000 non-null  float64\n",
            " 9   grading      10000 non-null  object \n",
            "dtypes: float64(6), object(4)\n",
            "memory usage: 781.4+ KB\n"
          ]
        }
      ],
      "source": [
        "diamond.info() # use the info() method check the data statistical information"
      ]
    },
    {
      "cell_type": "markdown",
      "source": [
        "**Findings**\n",
        "  - there are 10 columns, data size are 10000 colums, 6 numerical variables and 4 character variables \n",
        "  - 1) including 4C of diamond: \"carat\",\"cut\",\"colour\",\"clarity\"\n",
        "  - 2) 3 basic information of diamond: \"length\",\"width\",\"height\"\n",
        "  - 3) 2 calculating columns: depth_ratio=height / mean (length, width), table=percentage of width of the top facet of the diamond to the width\n",
        "  - 4) grading is the target variable"
      ],
      "metadata": {
        "id": "tehpyiMs7vCg"
      },
      "id": "tehpyiMs7vCg"
    },
    {
      "cell_type": "markdown",
      "id": "001b100e",
      "metadata": {
        "id": "001b100e"
      },
      "source": [
        "## View the statistical variables of dataset"
      ]
    },
    {
      "cell_type": "code",
      "execution_count": 9,
      "id": "1e4afb17",
      "metadata": {
        "colab": {
          "base_uri": "https://localhost:8080/",
          "height": 300
        },
        "id": "1e4afb17",
        "outputId": "7a5696e3-abfc-4195-ef83-a78798e26274"
      },
      "outputs": [
        {
          "output_type": "execute_result",
          "data": {
            "text/plain": [
              "              carat        length         width        height   depth_ratio  \\\n",
              "count  10000.000000  10000.000000  10000.000000  10000.000000  10000.000000   \n",
              "mean       0.801591      5.738197      5.744263      3.545418     61.758790   \n",
              "std        0.477550      1.131100      1.239754      0.753577      1.442807   \n",
              "min        0.200000      0.000000      0.000000      0.000000     50.800000   \n",
              "25%        0.400000      4.720000      4.720000      2.910000     61.100000   \n",
              "50%        0.700000      5.690000      5.710000      3.530000     61.900000   \n",
              "75%        1.050000      6.550000      6.550000      4.040000     62.500000   \n",
              "max        4.130000     10.140000     58.900000     31.800000     71.800000   \n",
              "\n",
              "              table  \n",
              "count  10000.000000  \n",
              "mean      57.453700  \n",
              "std        2.243387  \n",
              "min       49.000000  \n",
              "25%       56.000000  \n",
              "50%       57.000000  \n",
              "75%       59.000000  \n",
              "max       95.000000  "
            ],
            "text/html": [
              "\n",
              "  <div id=\"df-96de9927-dc95-462a-b73c-2a2373c78ba2\">\n",
              "    <div class=\"colab-df-container\">\n",
              "      <div>\n",
              "<style scoped>\n",
              "    .dataframe tbody tr th:only-of-type {\n",
              "        vertical-align: middle;\n",
              "    }\n",
              "\n",
              "    .dataframe tbody tr th {\n",
              "        vertical-align: top;\n",
              "    }\n",
              "\n",
              "    .dataframe thead th {\n",
              "        text-align: right;\n",
              "    }\n",
              "</style>\n",
              "<table border=\"1\" class=\"dataframe\">\n",
              "  <thead>\n",
              "    <tr style=\"text-align: right;\">\n",
              "      <th></th>\n",
              "      <th>carat</th>\n",
              "      <th>length</th>\n",
              "      <th>width</th>\n",
              "      <th>height</th>\n",
              "      <th>depth_ratio</th>\n",
              "      <th>table</th>\n",
              "    </tr>\n",
              "  </thead>\n",
              "  <tbody>\n",
              "    <tr>\n",
              "      <th>count</th>\n",
              "      <td>10000.000000</td>\n",
              "      <td>10000.000000</td>\n",
              "      <td>10000.000000</td>\n",
              "      <td>10000.000000</td>\n",
              "      <td>10000.000000</td>\n",
              "      <td>10000.000000</td>\n",
              "    </tr>\n",
              "    <tr>\n",
              "      <th>mean</th>\n",
              "      <td>0.801591</td>\n",
              "      <td>5.738197</td>\n",
              "      <td>5.744263</td>\n",
              "      <td>3.545418</td>\n",
              "      <td>61.758790</td>\n",
              "      <td>57.453700</td>\n",
              "    </tr>\n",
              "    <tr>\n",
              "      <th>std</th>\n",
              "      <td>0.477550</td>\n",
              "      <td>1.131100</td>\n",
              "      <td>1.239754</td>\n",
              "      <td>0.753577</td>\n",
              "      <td>1.442807</td>\n",
              "      <td>2.243387</td>\n",
              "    </tr>\n",
              "    <tr>\n",
              "      <th>min</th>\n",
              "      <td>0.200000</td>\n",
              "      <td>0.000000</td>\n",
              "      <td>0.000000</td>\n",
              "      <td>0.000000</td>\n",
              "      <td>50.800000</td>\n",
              "      <td>49.000000</td>\n",
              "    </tr>\n",
              "    <tr>\n",
              "      <th>25%</th>\n",
              "      <td>0.400000</td>\n",
              "      <td>4.720000</td>\n",
              "      <td>4.720000</td>\n",
              "      <td>2.910000</td>\n",
              "      <td>61.100000</td>\n",
              "      <td>56.000000</td>\n",
              "    </tr>\n",
              "    <tr>\n",
              "      <th>50%</th>\n",
              "      <td>0.700000</td>\n",
              "      <td>5.690000</td>\n",
              "      <td>5.710000</td>\n",
              "      <td>3.530000</td>\n",
              "      <td>61.900000</td>\n",
              "      <td>57.000000</td>\n",
              "    </tr>\n",
              "    <tr>\n",
              "      <th>75%</th>\n",
              "      <td>1.050000</td>\n",
              "      <td>6.550000</td>\n",
              "      <td>6.550000</td>\n",
              "      <td>4.040000</td>\n",
              "      <td>62.500000</td>\n",
              "      <td>59.000000</td>\n",
              "    </tr>\n",
              "    <tr>\n",
              "      <th>max</th>\n",
              "      <td>4.130000</td>\n",
              "      <td>10.140000</td>\n",
              "      <td>58.900000</td>\n",
              "      <td>31.800000</td>\n",
              "      <td>71.800000</td>\n",
              "      <td>95.000000</td>\n",
              "    </tr>\n",
              "  </tbody>\n",
              "</table>\n",
              "</div>\n",
              "      <button class=\"colab-df-convert\" onclick=\"convertToInteractive('df-96de9927-dc95-462a-b73c-2a2373c78ba2')\"\n",
              "              title=\"Convert this dataframe to an interactive table.\"\n",
              "              style=\"display:none;\">\n",
              "        \n",
              "  <svg xmlns=\"http://www.w3.org/2000/svg\" height=\"24px\"viewBox=\"0 0 24 24\"\n",
              "       width=\"24px\">\n",
              "    <path d=\"M0 0h24v24H0V0z\" fill=\"none\"/>\n",
              "    <path d=\"M18.56 5.44l.94 2.06.94-2.06 2.06-.94-2.06-.94-.94-2.06-.94 2.06-2.06.94zm-11 1L8.5 8.5l.94-2.06 2.06-.94-2.06-.94L8.5 2.5l-.94 2.06-2.06.94zm10 10l.94 2.06.94-2.06 2.06-.94-2.06-.94-.94-2.06-.94 2.06-2.06.94z\"/><path d=\"M17.41 7.96l-1.37-1.37c-.4-.4-.92-.59-1.43-.59-.52 0-1.04.2-1.43.59L10.3 9.45l-7.72 7.72c-.78.78-.78 2.05 0 2.83L4 21.41c.39.39.9.59 1.41.59.51 0 1.02-.2 1.41-.59l7.78-7.78 2.81-2.81c.8-.78.8-2.07 0-2.86zM5.41 20L4 18.59l7.72-7.72 1.47 1.35L5.41 20z\"/>\n",
              "  </svg>\n",
              "      </button>\n",
              "      \n",
              "  <style>\n",
              "    .colab-df-container {\n",
              "      display:flex;\n",
              "      flex-wrap:wrap;\n",
              "      gap: 12px;\n",
              "    }\n",
              "\n",
              "    .colab-df-convert {\n",
              "      background-color: #E8F0FE;\n",
              "      border: none;\n",
              "      border-radius: 50%;\n",
              "      cursor: pointer;\n",
              "      display: none;\n",
              "      fill: #1967D2;\n",
              "      height: 32px;\n",
              "      padding: 0 0 0 0;\n",
              "      width: 32px;\n",
              "    }\n",
              "\n",
              "    .colab-df-convert:hover {\n",
              "      background-color: #E2EBFA;\n",
              "      box-shadow: 0px 1px 2px rgba(60, 64, 67, 0.3), 0px 1px 3px 1px rgba(60, 64, 67, 0.15);\n",
              "      fill: #174EA6;\n",
              "    }\n",
              "\n",
              "    [theme=dark] .colab-df-convert {\n",
              "      background-color: #3B4455;\n",
              "      fill: #D2E3FC;\n",
              "    }\n",
              "\n",
              "    [theme=dark] .colab-df-convert:hover {\n",
              "      background-color: #434B5C;\n",
              "      box-shadow: 0px 1px 3px 1px rgba(0, 0, 0, 0.15);\n",
              "      filter: drop-shadow(0px 1px 2px rgba(0, 0, 0, 0.3));\n",
              "      fill: #FFFFFF;\n",
              "    }\n",
              "  </style>\n",
              "\n",
              "      <script>\n",
              "        const buttonEl =\n",
              "          document.querySelector('#df-96de9927-dc95-462a-b73c-2a2373c78ba2 button.colab-df-convert');\n",
              "        buttonEl.style.display =\n",
              "          google.colab.kernel.accessAllowed ? 'block' : 'none';\n",
              "\n",
              "        async function convertToInteractive(key) {\n",
              "          const element = document.querySelector('#df-96de9927-dc95-462a-b73c-2a2373c78ba2');\n",
              "          const dataTable =\n",
              "            await google.colab.kernel.invokeFunction('convertToInteractive',\n",
              "                                                     [key], {});\n",
              "          if (!dataTable) return;\n",
              "\n",
              "          const docLinkHtml = 'Like what you see? Visit the ' +\n",
              "            '<a target=\"_blank\" href=https://colab.research.google.com/notebooks/data_table.ipynb>data table notebook</a>'\n",
              "            + ' to learn more about interactive tables.';\n",
              "          element.innerHTML = '';\n",
              "          dataTable['output_type'] = 'display_data';\n",
              "          await google.colab.output.renderOutput(dataTable, element);\n",
              "          const docLink = document.createElement('div');\n",
              "          docLink.innerHTML = docLinkHtml;\n",
              "          element.appendChild(docLink);\n",
              "        }\n",
              "      </script>\n",
              "    </div>\n",
              "  </div>\n",
              "  "
            ]
          },
          "metadata": {},
          "execution_count": 9
        }
      ],
      "source": [
        "diamond.describe()"
      ]
    },
    {
      "cell_type": "markdown",
      "id": "424bd266",
      "metadata": {
        "id": "424bd266"
      },
      "source": [
        "**Findings**\n",
        "  - As for the statistical data values, their value ranges vary too much, need to standadize or normalize.\n",
        "  - `width` and `height`'s max value have big deviation from 75% value"
      ]
    },
    {
      "cell_type": "markdown",
      "id": "329b874e",
      "metadata": {
        "id": "329b874e"
      },
      "source": [
        "# Data Cleaning"
      ]
    },
    {
      "cell_type": "markdown",
      "id": "03bae4a3",
      "metadata": {
        "id": "03bae4a3"
      },
      "source": [
        "## Check the missing values"
      ]
    },
    {
      "cell_type": "code",
      "execution_count": 10,
      "id": "dcb999d7",
      "metadata": {
        "scrolled": true,
        "colab": {
          "base_uri": "https://localhost:8080/"
        },
        "id": "dcb999d7",
        "outputId": "a19e8dc8-09f4-48f0-966a-d01a1b9c4665"
      },
      "outputs": [
        {
          "output_type": "execute_result",
          "data": {
            "text/plain": [
              "carat          False\n",
              "cut            False\n",
              "colour         False\n",
              "clarity        False\n",
              "length         False\n",
              "width          False\n",
              "height         False\n",
              "depth_ratio    False\n",
              "table          False\n",
              "grading        False\n",
              "dtype: bool"
            ]
          },
          "metadata": {},
          "execution_count": 10
        }
      ],
      "source": [
        "diamond.isnull().any()\n",
        "# result shows that there is no null value"
      ]
    },
    {
      "cell_type": "markdown",
      "id": "cdd963df",
      "metadata": {
        "id": "cdd963df"
      },
      "source": [
        "## Check the duplicated Values"
      ]
    },
    {
      "cell_type": "code",
      "execution_count": 11,
      "id": "f8b43974",
      "metadata": {
        "colab": {
          "base_uri": "https://localhost:8080/"
        },
        "id": "f8b43974",
        "outputId": "e80aa645-9c5c-44fe-e91c-9e757311a443"
      },
      "outputs": [
        {
          "output_type": "execute_result",
          "data": {
            "text/plain": [
              "10"
            ]
          },
          "metadata": {},
          "execution_count": 11
        }
      ],
      "source": [
        "diamond.duplicated().sum()"
      ]
    },
    {
      "cell_type": "markdown",
      "id": "9c772269",
      "metadata": {
        "id": "9c772269"
      },
      "source": [
        "**Findings**\n",
        "  - There are 10 duplicated rows, next is to delete the duplicated rows"
      ]
    },
    {
      "cell_type": "code",
      "execution_count": 12,
      "id": "d38257e8",
      "metadata": {
        "id": "d38257e8"
      },
      "outputs": [],
      "source": [
        "diamond.drop_duplicates(keep=\"first\",inplace=True)\n",
        "# keep the first row when 2 rows are same"
      ]
    },
    {
      "cell_type": "code",
      "execution_count": 13,
      "id": "ff9d2a83",
      "metadata": {
        "colab": {
          "base_uri": "https://localhost:8080/",
          "height": 300
        },
        "id": "ff9d2a83",
        "outputId": "48268354-0056-4d8a-a4c3-736381ae1f84"
      },
      "outputs": [
        {
          "output_type": "execute_result",
          "data": {
            "text/plain": [
              "             carat       length        width       height  depth_ratio  \\\n",
              "count  9990.000000  9990.000000  9990.000000  9990.000000  9990.000000   \n",
              "mean      0.801248     5.737596     5.743691     3.545053    61.758789   \n",
              "std       0.476948     1.130515     1.239367     0.753271     1.442995   \n",
              "min       0.200000     0.000000     0.000000     0.000000    50.800000   \n",
              "25%       0.400000     4.720000     4.720000     2.910000    61.100000   \n",
              "50%       0.700000     5.690000     5.710000     3.530000    61.900000   \n",
              "75%       1.050000     6.550000     6.550000     4.040000    62.500000   \n",
              "max       4.130000    10.140000    58.900000    31.800000    71.800000   \n",
              "\n",
              "             table  \n",
              "count  9990.000000  \n",
              "mean     57.453453  \n",
              "std       2.243914  \n",
              "min      49.000000  \n",
              "25%      56.000000  \n",
              "50%      57.000000  \n",
              "75%      59.000000  \n",
              "max      95.000000  "
            ],
            "text/html": [
              "\n",
              "  <div id=\"df-ef4da2c9-a457-4ffb-b384-f634b36160de\">\n",
              "    <div class=\"colab-df-container\">\n",
              "      <div>\n",
              "<style scoped>\n",
              "    .dataframe tbody tr th:only-of-type {\n",
              "        vertical-align: middle;\n",
              "    }\n",
              "\n",
              "    .dataframe tbody tr th {\n",
              "        vertical-align: top;\n",
              "    }\n",
              "\n",
              "    .dataframe thead th {\n",
              "        text-align: right;\n",
              "    }\n",
              "</style>\n",
              "<table border=\"1\" class=\"dataframe\">\n",
              "  <thead>\n",
              "    <tr style=\"text-align: right;\">\n",
              "      <th></th>\n",
              "      <th>carat</th>\n",
              "      <th>length</th>\n",
              "      <th>width</th>\n",
              "      <th>height</th>\n",
              "      <th>depth_ratio</th>\n",
              "      <th>table</th>\n",
              "    </tr>\n",
              "  </thead>\n",
              "  <tbody>\n",
              "    <tr>\n",
              "      <th>count</th>\n",
              "      <td>9990.000000</td>\n",
              "      <td>9990.000000</td>\n",
              "      <td>9990.000000</td>\n",
              "      <td>9990.000000</td>\n",
              "      <td>9990.000000</td>\n",
              "      <td>9990.000000</td>\n",
              "    </tr>\n",
              "    <tr>\n",
              "      <th>mean</th>\n",
              "      <td>0.801248</td>\n",
              "      <td>5.737596</td>\n",
              "      <td>5.743691</td>\n",
              "      <td>3.545053</td>\n",
              "      <td>61.758789</td>\n",
              "      <td>57.453453</td>\n",
              "    </tr>\n",
              "    <tr>\n",
              "      <th>std</th>\n",
              "      <td>0.476948</td>\n",
              "      <td>1.130515</td>\n",
              "      <td>1.239367</td>\n",
              "      <td>0.753271</td>\n",
              "      <td>1.442995</td>\n",
              "      <td>2.243914</td>\n",
              "    </tr>\n",
              "    <tr>\n",
              "      <th>min</th>\n",
              "      <td>0.200000</td>\n",
              "      <td>0.000000</td>\n",
              "      <td>0.000000</td>\n",
              "      <td>0.000000</td>\n",
              "      <td>50.800000</td>\n",
              "      <td>49.000000</td>\n",
              "    </tr>\n",
              "    <tr>\n",
              "      <th>25%</th>\n",
              "      <td>0.400000</td>\n",
              "      <td>4.720000</td>\n",
              "      <td>4.720000</td>\n",
              "      <td>2.910000</td>\n",
              "      <td>61.100000</td>\n",
              "      <td>56.000000</td>\n",
              "    </tr>\n",
              "    <tr>\n",
              "      <th>50%</th>\n",
              "      <td>0.700000</td>\n",
              "      <td>5.690000</td>\n",
              "      <td>5.710000</td>\n",
              "      <td>3.530000</td>\n",
              "      <td>61.900000</td>\n",
              "      <td>57.000000</td>\n",
              "    </tr>\n",
              "    <tr>\n",
              "      <th>75%</th>\n",
              "      <td>1.050000</td>\n",
              "      <td>6.550000</td>\n",
              "      <td>6.550000</td>\n",
              "      <td>4.040000</td>\n",
              "      <td>62.500000</td>\n",
              "      <td>59.000000</td>\n",
              "    </tr>\n",
              "    <tr>\n",
              "      <th>max</th>\n",
              "      <td>4.130000</td>\n",
              "      <td>10.140000</td>\n",
              "      <td>58.900000</td>\n",
              "      <td>31.800000</td>\n",
              "      <td>71.800000</td>\n",
              "      <td>95.000000</td>\n",
              "    </tr>\n",
              "  </tbody>\n",
              "</table>\n",
              "</div>\n",
              "      <button class=\"colab-df-convert\" onclick=\"convertToInteractive('df-ef4da2c9-a457-4ffb-b384-f634b36160de')\"\n",
              "              title=\"Convert this dataframe to an interactive table.\"\n",
              "              style=\"display:none;\">\n",
              "        \n",
              "  <svg xmlns=\"http://www.w3.org/2000/svg\" height=\"24px\"viewBox=\"0 0 24 24\"\n",
              "       width=\"24px\">\n",
              "    <path d=\"M0 0h24v24H0V0z\" fill=\"none\"/>\n",
              "    <path d=\"M18.56 5.44l.94 2.06.94-2.06 2.06-.94-2.06-.94-.94-2.06-.94 2.06-2.06.94zm-11 1L8.5 8.5l.94-2.06 2.06-.94-2.06-.94L8.5 2.5l-.94 2.06-2.06.94zm10 10l.94 2.06.94-2.06 2.06-.94-2.06-.94-.94-2.06-.94 2.06-2.06.94z\"/><path d=\"M17.41 7.96l-1.37-1.37c-.4-.4-.92-.59-1.43-.59-.52 0-1.04.2-1.43.59L10.3 9.45l-7.72 7.72c-.78.78-.78 2.05 0 2.83L4 21.41c.39.39.9.59 1.41.59.51 0 1.02-.2 1.41-.59l7.78-7.78 2.81-2.81c.8-.78.8-2.07 0-2.86zM5.41 20L4 18.59l7.72-7.72 1.47 1.35L5.41 20z\"/>\n",
              "  </svg>\n",
              "      </button>\n",
              "      \n",
              "  <style>\n",
              "    .colab-df-container {\n",
              "      display:flex;\n",
              "      flex-wrap:wrap;\n",
              "      gap: 12px;\n",
              "    }\n",
              "\n",
              "    .colab-df-convert {\n",
              "      background-color: #E8F0FE;\n",
              "      border: none;\n",
              "      border-radius: 50%;\n",
              "      cursor: pointer;\n",
              "      display: none;\n",
              "      fill: #1967D2;\n",
              "      height: 32px;\n",
              "      padding: 0 0 0 0;\n",
              "      width: 32px;\n",
              "    }\n",
              "\n",
              "    .colab-df-convert:hover {\n",
              "      background-color: #E2EBFA;\n",
              "      box-shadow: 0px 1px 2px rgba(60, 64, 67, 0.3), 0px 1px 3px 1px rgba(60, 64, 67, 0.15);\n",
              "      fill: #174EA6;\n",
              "    }\n",
              "\n",
              "    [theme=dark] .colab-df-convert {\n",
              "      background-color: #3B4455;\n",
              "      fill: #D2E3FC;\n",
              "    }\n",
              "\n",
              "    [theme=dark] .colab-df-convert:hover {\n",
              "      background-color: #434B5C;\n",
              "      box-shadow: 0px 1px 3px 1px rgba(0, 0, 0, 0.15);\n",
              "      filter: drop-shadow(0px 1px 2px rgba(0, 0, 0, 0.3));\n",
              "      fill: #FFFFFF;\n",
              "    }\n",
              "  </style>\n",
              "\n",
              "      <script>\n",
              "        const buttonEl =\n",
              "          document.querySelector('#df-ef4da2c9-a457-4ffb-b384-f634b36160de button.colab-df-convert');\n",
              "        buttonEl.style.display =\n",
              "          google.colab.kernel.accessAllowed ? 'block' : 'none';\n",
              "\n",
              "        async function convertToInteractive(key) {\n",
              "          const element = document.querySelector('#df-ef4da2c9-a457-4ffb-b384-f634b36160de');\n",
              "          const dataTable =\n",
              "            await google.colab.kernel.invokeFunction('convertToInteractive',\n",
              "                                                     [key], {});\n",
              "          if (!dataTable) return;\n",
              "\n",
              "          const docLinkHtml = 'Like what you see? Visit the ' +\n",
              "            '<a target=\"_blank\" href=https://colab.research.google.com/notebooks/data_table.ipynb>data table notebook</a>'\n",
              "            + ' to learn more about interactive tables.';\n",
              "          element.innerHTML = '';\n",
              "          dataTable['output_type'] = 'display_data';\n",
              "          await google.colab.output.renderOutput(dataTable, element);\n",
              "          const docLink = document.createElement('div');\n",
              "          docLink.innerHTML = docLinkHtml;\n",
              "          element.appendChild(docLink);\n",
              "        }\n",
              "      </script>\n",
              "    </div>\n",
              "  </div>\n",
              "  "
            ]
          },
          "metadata": {},
          "execution_count": 13
        }
      ],
      "source": [
        "diamond.describe()\n",
        "# after cleaning the duplicated values, the whole dataset are 9990 rows"
      ]
    },
    {
      "cell_type": "markdown",
      "id": "a035689a",
      "metadata": {
        "id": "a035689a"
      },
      "source": [
        "**Result:**After cleaning all the duplicated rows, there are 9990 rows in the dataset."
      ]
    },
    {
      "cell_type": "markdown",
      "id": "21774617",
      "metadata": {
        "id": "21774617"
      },
      "source": [
        "# Explore the Categorical Variables"
      ]
    },
    {
      "cell_type": "markdown",
      "id": "6668786d",
      "metadata": {
        "id": "6668786d"
      },
      "source": [
        "## Find Categorical Varibles"
      ]
    },
    {
      "cell_type": "code",
      "execution_count": 14,
      "id": "7b054885",
      "metadata": {
        "colab": {
          "base_uri": "https://localhost:8080/"
        },
        "id": "7b054885",
        "outputId": "c035f880-6d30-4c8d-a8cf-4a922d876415"
      },
      "outputs": [
        {
          "output_type": "stream",
          "name": "stdout",
          "text": [
            "There are 4 categorical variables\n",
            "\n",
            "The categorical variables are :\n",
            "\n",
            " ['cut', 'colour', 'clarity', 'grading']\n"
          ]
        }
      ],
      "source": [
        "#use dtype to show all categorical variables\n",
        "categorical = [col for col in diamond.columns if diamond[col].dtype=='O']# store all categories into 'categorical' list \n",
        "print('There are {} categorical variables\\n'.format(len(categorical)))\n",
        "print('The categorical variables are :\\n\\n', categorical)"
      ]
    },
    {
      "cell_type": "code",
      "execution_count": 15,
      "id": "eecedec3",
      "metadata": {
        "colab": {
          "base_uri": "https://localhost:8080/",
          "height": 206
        },
        "id": "eecedec3",
        "outputId": "85be07be-5686-49b5-b0ba-ff41948e9fe9"
      },
      "outputs": [
        {
          "output_type": "execute_result",
          "data": {
            "text/plain": [
              "         cut colour clarity grading\n",
              "0  Very Good      H     SI2   Mid  \n",
              "1      Ideal      G    VVS2   Mid  \n",
              "2      Ideal      G      IF   Low  \n",
              "3  Very Good      D     VS2  High  \n",
              "4  Very Good      D    VVS2  High  "
            ],
            "text/html": [
              "\n",
              "  <div id=\"df-eda38493-6df9-4070-ab5c-9124a9daedc0\">\n",
              "    <div class=\"colab-df-container\">\n",
              "      <div>\n",
              "<style scoped>\n",
              "    .dataframe tbody tr th:only-of-type {\n",
              "        vertical-align: middle;\n",
              "    }\n",
              "\n",
              "    .dataframe tbody tr th {\n",
              "        vertical-align: top;\n",
              "    }\n",
              "\n",
              "    .dataframe thead th {\n",
              "        text-align: right;\n",
              "    }\n",
              "</style>\n",
              "<table border=\"1\" class=\"dataframe\">\n",
              "  <thead>\n",
              "    <tr style=\"text-align: right;\">\n",
              "      <th></th>\n",
              "      <th>cut</th>\n",
              "      <th>colour</th>\n",
              "      <th>clarity</th>\n",
              "      <th>grading</th>\n",
              "    </tr>\n",
              "  </thead>\n",
              "  <tbody>\n",
              "    <tr>\n",
              "      <th>0</th>\n",
              "      <td>Very Good</td>\n",
              "      <td>H</td>\n",
              "      <td>SI2</td>\n",
              "      <td>Mid</td>\n",
              "    </tr>\n",
              "    <tr>\n",
              "      <th>1</th>\n",
              "      <td>Ideal</td>\n",
              "      <td>G</td>\n",
              "      <td>VVS2</td>\n",
              "      <td>Mid</td>\n",
              "    </tr>\n",
              "    <tr>\n",
              "      <th>2</th>\n",
              "      <td>Ideal</td>\n",
              "      <td>G</td>\n",
              "      <td>IF</td>\n",
              "      <td>Low</td>\n",
              "    </tr>\n",
              "    <tr>\n",
              "      <th>3</th>\n",
              "      <td>Very Good</td>\n",
              "      <td>D</td>\n",
              "      <td>VS2</td>\n",
              "      <td>High</td>\n",
              "    </tr>\n",
              "    <tr>\n",
              "      <th>4</th>\n",
              "      <td>Very Good</td>\n",
              "      <td>D</td>\n",
              "      <td>VVS2</td>\n",
              "      <td>High</td>\n",
              "    </tr>\n",
              "  </tbody>\n",
              "</table>\n",
              "</div>\n",
              "      <button class=\"colab-df-convert\" onclick=\"convertToInteractive('df-eda38493-6df9-4070-ab5c-9124a9daedc0')\"\n",
              "              title=\"Convert this dataframe to an interactive table.\"\n",
              "              style=\"display:none;\">\n",
              "        \n",
              "  <svg xmlns=\"http://www.w3.org/2000/svg\" height=\"24px\"viewBox=\"0 0 24 24\"\n",
              "       width=\"24px\">\n",
              "    <path d=\"M0 0h24v24H0V0z\" fill=\"none\"/>\n",
              "    <path d=\"M18.56 5.44l.94 2.06.94-2.06 2.06-.94-2.06-.94-.94-2.06-.94 2.06-2.06.94zm-11 1L8.5 8.5l.94-2.06 2.06-.94-2.06-.94L8.5 2.5l-.94 2.06-2.06.94zm10 10l.94 2.06.94-2.06 2.06-.94-2.06-.94-.94-2.06-.94 2.06-2.06.94z\"/><path d=\"M17.41 7.96l-1.37-1.37c-.4-.4-.92-.59-1.43-.59-.52 0-1.04.2-1.43.59L10.3 9.45l-7.72 7.72c-.78.78-.78 2.05 0 2.83L4 21.41c.39.39.9.59 1.41.59.51 0 1.02-.2 1.41-.59l7.78-7.78 2.81-2.81c.8-.78.8-2.07 0-2.86zM5.41 20L4 18.59l7.72-7.72 1.47 1.35L5.41 20z\"/>\n",
              "  </svg>\n",
              "      </button>\n",
              "      \n",
              "  <style>\n",
              "    .colab-df-container {\n",
              "      display:flex;\n",
              "      flex-wrap:wrap;\n",
              "      gap: 12px;\n",
              "    }\n",
              "\n",
              "    .colab-df-convert {\n",
              "      background-color: #E8F0FE;\n",
              "      border: none;\n",
              "      border-radius: 50%;\n",
              "      cursor: pointer;\n",
              "      display: none;\n",
              "      fill: #1967D2;\n",
              "      height: 32px;\n",
              "      padding: 0 0 0 0;\n",
              "      width: 32px;\n",
              "    }\n",
              "\n",
              "    .colab-df-convert:hover {\n",
              "      background-color: #E2EBFA;\n",
              "      box-shadow: 0px 1px 2px rgba(60, 64, 67, 0.3), 0px 1px 3px 1px rgba(60, 64, 67, 0.15);\n",
              "      fill: #174EA6;\n",
              "    }\n",
              "\n",
              "    [theme=dark] .colab-df-convert {\n",
              "      background-color: #3B4455;\n",
              "      fill: #D2E3FC;\n",
              "    }\n",
              "\n",
              "    [theme=dark] .colab-df-convert:hover {\n",
              "      background-color: #434B5C;\n",
              "      box-shadow: 0px 1px 3px 1px rgba(0, 0, 0, 0.15);\n",
              "      filter: drop-shadow(0px 1px 2px rgba(0, 0, 0, 0.3));\n",
              "      fill: #FFFFFF;\n",
              "    }\n",
              "  </style>\n",
              "\n",
              "      <script>\n",
              "        const buttonEl =\n",
              "          document.querySelector('#df-eda38493-6df9-4070-ab5c-9124a9daedc0 button.colab-df-convert');\n",
              "        buttonEl.style.display =\n",
              "          google.colab.kernel.accessAllowed ? 'block' : 'none';\n",
              "\n",
              "        async function convertToInteractive(key) {\n",
              "          const element = document.querySelector('#df-eda38493-6df9-4070-ab5c-9124a9daedc0');\n",
              "          const dataTable =\n",
              "            await google.colab.kernel.invokeFunction('convertToInteractive',\n",
              "                                                     [key], {});\n",
              "          if (!dataTable) return;\n",
              "\n",
              "          const docLinkHtml = 'Like what you see? Visit the ' +\n",
              "            '<a target=\"_blank\" href=https://colab.research.google.com/notebooks/data_table.ipynb>data table notebook</a>'\n",
              "            + ' to learn more about interactive tables.';\n",
              "          element.innerHTML = '';\n",
              "          dataTable['output_type'] = 'display_data';\n",
              "          await google.colab.output.renderOutput(dataTable, element);\n",
              "          const docLink = document.createElement('div');\n",
              "          docLink.innerHTML = docLinkHtml;\n",
              "          element.appendChild(docLink);\n",
              "        }\n",
              "      </script>\n",
              "    </div>\n",
              "  </div>\n",
              "  "
            ]
          },
          "metadata": {},
          "execution_count": 15
        }
      ],
      "source": [
        "diamond[categorical].head()"
      ]
    },
    {
      "cell_type": "markdown",
      "id": "77f65a86",
      "metadata": {
        "id": "77f65a86"
      },
      "source": [
        "## Distribution of Categorical Variables"
      ]
    },
    {
      "cell_type": "code",
      "execution_count": 16,
      "id": "38a7a845",
      "metadata": {
        "scrolled": true,
        "colab": {
          "base_uri": "https://localhost:8080/",
          "height": 436
        },
        "id": "38a7a845",
        "outputId": "dea28bd8-344b-490c-d4bc-9d5d4f93d29b"
      },
      "outputs": [
        {
          "output_type": "display_data",
          "data": {
            "text/plain": [
              "<Figure size 432x432 with 4 Axes>"
            ],
            "image/png": "[encoded data removed]"
          },
          "metadata": {}
        }
      ],
      "source": [
        "# To visualize the distribution of Categorical Variables, use pie chart to show it\n",
        "fig,axs=plt.subplots(nrows=2, ncols=2, figsize=(6, 6))\n",
        "axs = axs.ravel()\n",
        "\n",
        "for i,category in enumerate(categorical):\n",
        "    axs[i].pie(diamond[category].value_counts(), labels=diamond[category].value_counts().index.tolist(), autopct='%.2f%%')\n",
        "    axs[i].set_title(f\"{category} Distribution\")\n",
        "    axs[i].axis('equal')\n",
        "\n",
        "plt.tight_layout()\n",
        "plt.show()"
      ]
    },
    {
      "cell_type": "markdown",
      "id": "ef0f4ba5",
      "metadata": {
        "id": "ef0f4ba5"
      },
      "source": [
        "**Finding**\n",
        "  - **cut**: Largest proportion is `Ideal`, Least proportion is `Fair`\n",
        "  - **colour**: Largest proportion is `G`, Least proportion is `J`\n",
        "  - **clarity**: Largest proportion is `SI1`, Least proportion is `I1`\n",
        "  - **grading**: Largest proportion is `Mid`, Least proportion is `High`"
      ]
    },
    {
      "cell_type": "markdown",
      "id": "2ffd9cce",
      "metadata": {
        "id": "2ffd9cce"
      },
      "source": [
        "## Explore the `grading` Target Variable"
      ]
    },
    {
      "cell_type": "code",
      "execution_count": 17,
      "id": "0261b416",
      "metadata": {
        "colab": {
          "base_uri": "https://localhost:8080/"
        },
        "id": "0261b416",
        "outputId": "012e0452-56e7-4707-c691-c8a6f4848281"
      },
      "outputs": [
        {
          "output_type": "execute_result",
          "data": {
            "text/plain": [
              "array(['Mid  ', ' Low  ', 'High  '], dtype=object)"
            ]
          },
          "metadata": {},
          "execution_count": 17
        }
      ],
      "source": [
        "# view number of unique values\n",
        "diamond['grading'].unique()"
      ]
    },
    {
      "cell_type": "markdown",
      "id": "8f1ef296",
      "metadata": {
        "id": "8f1ef296"
      },
      "source": [
        "**Finding**\n",
        "  - There are three unique values in the `grading` variable\n",
        "  - `grading` columns contains the blank string, needs to delete all blanks for the later transfer."
      ]
    },
    {
      "cell_type": "code",
      "execution_count": 18,
      "id": "d650e00b",
      "metadata": {
        "id": "d650e00b"
      },
      "outputs": [],
      "source": [
        "# Grading have the blank space, it needed to be replaced before transformation.\n",
        "diamond['grading'] = diamond['grading'].str.replace(\" \", \"\")# replace all blank space"
      ]
    },
    {
      "cell_type": "markdown",
      "id": "bf2af194",
      "metadata": {
        "id": "bf2af194"
      },
      "source": [
        "# Explore Numerical Variables"
      ]
    },
    {
      "cell_type": "code",
      "execution_count": 19,
      "id": "41c10da4",
      "metadata": {
        "colab": {
          "base_uri": "https://localhost:8080/",
          "height": 206
        },
        "id": "41c10da4",
        "outputId": "e5bfc3c3-4b76-4f9a-834d-abe5fac90b5b"
      },
      "outputs": [
        {
          "output_type": "execute_result",
          "data": {
            "text/plain": [
              "   carat  length  width  height  depth_ratio  table\n",
              "0   1.20    6.74   6.77    4.25         62.9   56.0\n",
              "1   0.60    5.37   5.41    3.31         61.4   59.0\n",
              "2   0.23    3.93   3.96    2.48         62.8   55.0\n",
              "3   1.51    7.29   7.34    4.56         62.3   59.0\n",
              "4   1.01    6.51   6.57    3.94         60.2   58.0"
            ],
            "text/html": [
              "\n",
              "  <div id=\"df-63f48aaf-9ea8-4551-817a-c0faaa0d5133\">\n",
              "    <div class=\"colab-df-container\">\n",
              "      <div>\n",
              "<style scoped>\n",
              "    .dataframe tbody tr th:only-of-type {\n",
              "        vertical-align: middle;\n",
              "    }\n",
              "\n",
              "    .dataframe tbody tr th {\n",
              "        vertical-align: top;\n",
              "    }\n",
              "\n",
              "    .dataframe thead th {\n",
              "        text-align: right;\n",
              "    }\n",
              "</style>\n",
              "<table border=\"1\" class=\"dataframe\">\n",
              "  <thead>\n",
              "    <tr style=\"text-align: right;\">\n",
              "      <th></th>\n",
              "      <th>carat</th>\n",
              "      <th>length</th>\n",
              "      <th>width</th>\n",
              "      <th>height</th>\n",
              "      <th>depth_ratio</th>\n",
              "      <th>table</th>\n",
              "    </tr>\n",
              "  </thead>\n",
              "  <tbody>\n",
              "    <tr>\n",
              "      <th>0</th>\n",
              "      <td>1.20</td>\n",
              "      <td>6.74</td>\n",
              "      <td>6.77</td>\n",
              "      <td>4.25</td>\n",
              "      <td>62.9</td>\n",
              "      <td>56.0</td>\n",
              "    </tr>\n",
              "    <tr>\n",
              "      <th>1</th>\n",
              "      <td>0.60</td>\n",
              "      <td>5.37</td>\n",
              "      <td>5.41</td>\n",
              "      <td>3.31</td>\n",
              "      <td>61.4</td>\n",
              "      <td>59.0</td>\n",
              "    </tr>\n",
              "    <tr>\n",
              "      <th>2</th>\n",
              "      <td>0.23</td>\n",
              "      <td>3.93</td>\n",
              "      <td>3.96</td>\n",
              "      <td>2.48</td>\n",
              "      <td>62.8</td>\n",
              "      <td>55.0</td>\n",
              "    </tr>\n",
              "    <tr>\n",
              "      <th>3</th>\n",
              "      <td>1.51</td>\n",
              "      <td>7.29</td>\n",
              "      <td>7.34</td>\n",
              "      <td>4.56</td>\n",
              "      <td>62.3</td>\n",
              "      <td>59.0</td>\n",
              "    </tr>\n",
              "    <tr>\n",
              "      <th>4</th>\n",
              "      <td>1.01</td>\n",
              "      <td>6.51</td>\n",
              "      <td>6.57</td>\n",
              "      <td>3.94</td>\n",
              "      <td>60.2</td>\n",
              "      <td>58.0</td>\n",
              "    </tr>\n",
              "  </tbody>\n",
              "</table>\n",
              "</div>\n",
              "      <button class=\"colab-df-convert\" onclick=\"convertToInteractive('df-63f48aaf-9ea8-4551-817a-c0faaa0d5133')\"\n",
              "              title=\"Convert this dataframe to an interactive table.\"\n",
              "              style=\"display:none;\">\n",
              "        \n",
              "  <svg xmlns=\"http://www.w3.org/2000/svg\" height=\"24px\"viewBox=\"0 0 24 24\"\n",
              "       width=\"24px\">\n",
              "    <path d=\"M0 0h24v24H0V0z\" fill=\"none\"/>\n",
              "    <path d=\"M18.56 5.44l.94 2.06.94-2.06 2.06-.94-2.06-.94-.94-2.06-.94 2.06-2.06.94zm-11 1L8.5 8.5l.94-2.06 2.06-.94-2.06-.94L8.5 2.5l-.94 2.06-2.06.94zm10 10l.94 2.06.94-2.06 2.06-.94-2.06-.94-.94-2.06-.94 2.06-2.06.94z\"/><path d=\"M17.41 7.96l-1.37-1.37c-.4-.4-.92-.59-1.43-.59-.52 0-1.04.2-1.43.59L10.3 9.45l-7.72 7.72c-.78.78-.78 2.05 0 2.83L4 21.41c.39.39.9.59 1.41.59.51 0 1.02-.2 1.41-.59l7.78-7.78 2.81-2.81c.8-.78.8-2.07 0-2.86zM5.41 20L4 18.59l7.72-7.72 1.47 1.35L5.41 20z\"/>\n",
              "  </svg>\n",
              "      </button>\n",
              "      \n",
              "  <style>\n",
              "    .colab-df-container {\n",
              "      display:flex;\n",
              "      flex-wrap:wrap;\n",
              "      gap: 12px;\n",
              "    }\n",
              "\n",
              "    .colab-df-convert {\n",
              "      background-color: #E8F0FE;\n",
              "      border: none;\n",
              "      border-radius: 50%;\n",
              "      cursor: pointer;\n",
              "      display: none;\n",
              "      fill: #1967D2;\n",
              "      height: 32px;\n",
              "      padding: 0 0 0 0;\n",
              "      width: 32px;\n",
              "    }\n",
              "\n",
              "    .colab-df-convert:hover {\n",
              "      background-color: #E2EBFA;\n",
              "      box-shadow: 0px 1px 2px rgba(60, 64, 67, 0.3), 0px 1px 3px 1px rgba(60, 64, 67, 0.15);\n",
              "      fill: #174EA6;\n",
              "    }\n",
              "\n",
              "    [theme=dark] .colab-df-convert {\n",
              "      background-color: #3B4455;\n",
              "      fill: #D2E3FC;\n",
              "    }\n",
              "\n",
              "    [theme=dark] .colab-df-convert:hover {\n",
              "      background-color: #434B5C;\n",
              "      box-shadow: 0px 1px 3px 1px rgba(0, 0, 0, 0.15);\n",
              "      filter: drop-shadow(0px 1px 2px rgba(0, 0, 0, 0.3));\n",
              "      fill: #FFFFFF;\n",
              "    }\n",
              "  </style>\n",
              "\n",
              "      <script>\n",
              "        const buttonEl =\n",
              "          document.querySelector('#df-63f48aaf-9ea8-4551-817a-c0faaa0d5133 button.colab-df-convert');\n",
              "        buttonEl.style.display =\n",
              "          google.colab.kernel.accessAllowed ? 'block' : 'none';\n",
              "\n",
              "        async function convertToInteractive(key) {\n",
              "          const element = document.querySelector('#df-63f48aaf-9ea8-4551-817a-c0faaa0d5133');\n",
              "          const dataTable =\n",
              "            await google.colab.kernel.invokeFunction('convertToInteractive',\n",
              "                                                     [key], {});\n",
              "          if (!dataTable) return;\n",
              "\n",
              "          const docLinkHtml = 'Like what you see? Visit the ' +\n",
              "            '<a target=\"_blank\" href=https://colab.research.google.com/notebooks/data_table.ipynb>data table notebook</a>'\n",
              "            + ' to learn more about interactive tables.';\n",
              "          element.innerHTML = '';\n",
              "          dataTable['output_type'] = 'display_data';\n",
              "          await google.colab.output.renderOutput(dataTable, element);\n",
              "          const docLink = document.createElement('div');\n",
              "          docLink.innerHTML = docLinkHtml;\n",
              "          element.appendChild(docLink);\n",
              "        }\n",
              "      </script>\n",
              "    </div>\n",
              "  </div>\n",
              "  "
            ]
          },
          "metadata": {},
          "execution_count": 19
        }
      ],
      "source": [
        "numerical=[col for col in diamond.columns if diamond[col].dtype!='O']\n",
        "diamond[numerical].head() #preview the numerical variables"
      ]
    },
    {
      "cell_type": "markdown",
      "id": "b7df6a54",
      "metadata": {
        "id": "b7df6a54"
      },
      "source": [
        "## Visualize the Data Structure"
      ]
    },
    {
      "cell_type": "code",
      "execution_count": 20,
      "id": "22486a08",
      "metadata": {
        "colab": {
          "base_uri": "https://localhost:8080/",
          "height": 390
        },
        "id": "22486a08",
        "outputId": "8b827adb-2b39-457e-9720-8cb333e4d178"
      },
      "outputs": [
        {
          "output_type": "display_data",
          "data": {
            "text/plain": [
              "<Figure size 576x432 with 6 Axes>"
            ],
            "image/png": "[encoded data removed]"
          },
          "metadata": {
            "needs_background": "light"
          }
        }
      ],
      "source": [
        "diamond.hist(bins=50, figsize=(8, 6))\n",
        "plt.show()"
      ]
    },
    {
      "cell_type": "markdown",
      "id": "d2c3aa37",
      "metadata": {
        "id": "d2c3aa37"
      },
      "source": [
        "**Finding**\n",
        "   - `carat`: most diamonds are concentrated under 2.5 \n",
        "   - `length`: the range varies from 4 to 8\n",
        "   - `width`: the range varies from 5 to 10\n",
        "   - `height`: the range varies from 3 to 6\n",
        "   - `depth_ratio`: seems like normal distribution,the range from 55% to 70%\n",
        "   - `table`: seems like normal distribution,the range from 50% to 70%"
      ]
    },
    {
      "cell_type": "markdown",
      "id": "0069956e",
      "metadata": {
        "id": "0069956e"
      },
      "source": [
        "# Feature Engineering"
      ]
    },
    {
      "cell_type": "markdown",
      "id": "a954f9c8",
      "metadata": {
        "id": "a954f9c8"
      },
      "source": [
        "## Process the Categorical Data\n",
        "-  Because values of the categories are progressively related, therefore use ordinal encoding to process the values."
      ]
    },
    {
      "cell_type": "code",
      "execution_count": 21,
      "id": "cd171df2",
      "metadata": {
        "id": "cd171df2"
      },
      "outputs": [],
      "source": [
        "# use the progressive number to encode the categorical data\n",
        "diamond['cut']=diamond['cut'].map({'Fair':1,'Good':2,'Very Good':3,'Premium':4,'Ideal':5})\n",
        "diamond['colour']=diamond['colour'].map({\"J\":1,\"I\":2,\"H\":3,\"G\":4,\"F\":5,\"E\":6,\"D\":7})\n",
        "diamond['clarity']=diamond['clarity'].map({\"I1\":1,\"SI2\":2,\"SI1\":3,\"VS2\":4,\"VS1\":5,\"VVS2\":6,\"VVS1\":7,\"IF\":8})"
      ]
    },
    {
      "cell_type": "code",
      "execution_count": 22,
      "id": "bfb4896b",
      "metadata": {
        "id": "bfb4896b"
      },
      "outputs": [],
      "source": [
        "diamond['grading']=diamond['grading'].map({'Low':1,'Mid':2,'High':3})"
      ]
    },
    {
      "cell_type": "code",
      "execution_count": 23,
      "id": "4dde918c",
      "metadata": {
        "colab": {
          "base_uri": "https://localhost:8080/"
        },
        "id": "4dde918c",
        "outputId": "e397a9b6-2911-4f8b-afbd-98b49d696205"
      },
      "outputs": [
        {
          "output_type": "stream",
          "name": "stdout",
          "text": [
            "<class 'pandas.core.frame.DataFrame'>\n",
            "Int64Index: 9990 entries, 0 to 9999\n",
            "Data columns (total 10 columns):\n",
            " #   Column       Non-Null Count  Dtype  \n",
            "---  ------       --------------  -----  \n",
            " 0   carat        9990 non-null   float64\n",
            " 1   cut          9990 non-null   int64  \n",
            " 2   colour       9990 non-null   int64  \n",
            " 3   clarity      9990 non-null   int64  \n",
            " 4   length       9990 non-null   float64\n",
            " 5   width        9990 non-null   float64\n",
            " 6   height       9990 non-null   float64\n",
            " 7   depth_ratio  9990 non-null   float64\n",
            " 8   table        9990 non-null   float64\n",
            " 9   grading      9990 non-null   int64  \n",
            "dtypes: float64(6), int64(4)\n",
            "memory usage: 858.5 KB\n"
          ]
        }
      ],
      "source": [
        "diamond.info()"
      ]
    },
    {
      "cell_type": "markdown",
      "id": "bfcf0cfc",
      "metadata": {
        "id": "bfcf0cfc"
      },
      "source": [
        "- After processing the categorical values, the diamond dataset are all numerical variables"
      ]
    },
    {
      "cell_type": "markdown",
      "id": "29fc98d3",
      "metadata": {
        "id": "29fc98d3"
      },
      "source": [
        "## Check the Correlations of ALL Variables"
      ]
    },
    {
      "cell_type": "code",
      "execution_count": 24,
      "id": "d4607655",
      "metadata": {
        "colab": {
          "base_uri": "https://localhost:8080/",
          "height": 608
        },
        "id": "d4607655",
        "outputId": "ebe58bfc-fbf7-44b6-b5cb-a5cf58b3f952"
      },
      "outputs": [
        {
          "output_type": "display_data",
          "data": {
            "text/plain": [
              "<Figure size 720x720 with 2 Axes>"
            ],
            "image/png": "[encoded data removed]"
          },
          "metadata": {
            "needs_background": "light"
          }
        }
      ],
      "source": [
        "plt.figure(figsize=(10, 10))# define the figure size\n",
        "df_corr = diamond.corr()# use the corr() method to calculate the correlations\n",
        "sns.heatmap(df_corr, cmap=sns.diverging_palette(220, 20, n=12), annot=True)# use the heatmap method to draw\n",
        "plt.title(\"Diamonds\")\n",
        "plt.show() "
      ]
    },
    {
      "cell_type": "markdown",
      "id": "1014e00d",
      "metadata": {
        "id": "1014e00d"
      },
      "source": [
        "## Visualize the Correlationships"
      ]
    },
    {
      "cell_type": "code",
      "execution_count": 25,
      "id": "0ec4536c",
      "metadata": {
        "colab": {
          "base_uri": "https://localhost:8080/",
          "height": 622
        },
        "id": "0ec4536c",
        "outputId": "d3855dc5-b537-45fa-db86-f7d3da7f99d6"
      },
      "outputs": [
        {
          "output_type": "display_data",
          "data": {
            "text/plain": [
              "<Figure size 720x720 with 9 Axes>"
            ],
            "image/png": "[encoded data removed]"
          },
          "metadata": {
            "needs_background": "light"
          }
        }
      ],
      "source": [
        "# create a figure with subplots for each attribute\n",
        "fig, axes = plt.subplots(nrows=3, ncols=3, figsize=(10, 10))\n",
        "axes = axes.flatten()\n",
        "# loop over each attribute and create a scatter plot against grading\n",
        "for i, col in enumerate(diamond.columns):\n",
        "    if col != 'grading':\n",
        "        ax = axes[i]\n",
        "        sns.regplot(data=diamond, x=col, y='grading', ax=ax)\n",
        "        ax.set_title(col)\n",
        "        ax.set_xlabel(col)\n",
        "        ax.set_ylabel('grading')\n",
        "plt.show()"
      ]
    },
    {
      "cell_type": "markdown",
      "id": "7730d584",
      "metadata": {
        "id": "7730d584"
      },
      "source": [
        "**Findings on corr() and visualization** \n",
        "   - **`grading`**: `length`, `carat`,`width`,`height` have strong positive relationships. `clarity` and `colour` have negative values\n",
        "   -  `carat` are highly positively correlated with `(length, width, height)`, negatively related with `clarity`: -0.36\n",
        "   - `cut` coefficient value with `table` is -0.43, `cut` has negative relations with `table`\n",
        "   - `clarity` and `colour` has negative relationship with`carat`,`length`,`width`,`height`\n",
        "   - `length` is highly positively correlated with `carat`, `width`, `height`,`grading`\n",
        "   - `width` is highly positively correlated with `carat`,`length`, `height`,`grading`\n",
        "   - `height` is  highly positively correlated with`carat`,`length`, `width`,`grading`\n",
        "   - `depth_ratio` is negatively correlated with `table`\n",
        "   - `table` is positively correlated with `cut`"
      ]
    },
    {
      "cell_type": "markdown",
      "id": "a1cb97fc",
      "metadata": {
        "id": "a1cb97fc"
      },
      "source": [
        "# Model Preparation"
      ]
    },
    {
      "cell_type": "code",
      "execution_count": 26,
      "id": "e6efba74",
      "metadata": {
        "id": "e6efba74"
      },
      "outputs": [],
      "source": [
        "# `grading` is the target value to become y value, and all other variables become X values\n",
        "X=diamond.drop(['grading'],axis=1)# drop the target value\n",
        "y=diamond['grading']"
      ]
    },
    {
      "cell_type": "markdown",
      "id": "afcec6c8",
      "metadata": {
        "id": "afcec6c8"
      },
      "source": [
        "## Split the Data into training and test set"
      ]
    },
    {
      "cell_type": "code",
      "execution_count": 27,
      "id": "e9e9e97b",
      "metadata": {
        "id": "e9e9e97b"
      },
      "outputs": [],
      "source": [
        "# use the train_test_split function to split the training data, define the test size is 20%, random_state=42\n",
        "X_train, X_test, y_train, y_test = train_test_split(X,y,test_size=0.2, random_state=42)"
      ]
    },
    {
      "cell_type": "code",
      "execution_count": 28,
      "id": "b9f3a395",
      "metadata": {
        "colab": {
          "base_uri": "https://localhost:8080/"
        },
        "id": "b9f3a395",
        "outputId": "13c3ec43-2a78-4458-9b88-010c22e48fe7"
      },
      "outputs": [
        {
          "output_type": "execute_result",
          "data": {
            "text/plain": [
              "(7992, 9)"
            ]
          },
          "metadata": {},
          "execution_count": 28
        }
      ],
      "source": [
        "X_train.shape#After the data split, X_train data contains 9 columns and 7992 rows"
      ]
    },
    {
      "cell_type": "markdown",
      "id": "3adb3a8d",
      "metadata": {
        "id": "3adb3a8d"
      },
      "source": [
        "## Feature Scaling"
      ]
    },
    {
      "cell_type": "code",
      "execution_count": 29,
      "id": "124d2681",
      "metadata": {
        "id": "124d2681"
      },
      "outputs": [],
      "source": [
        "cols=X_train.columns# to store all X_train columns\n",
        "sc = StandardScaler() # use the `StandardScaler() function to scale the features\n",
        "X_train = sc.fit_transform(X_train) # use the fit_transform() method to apply X_train\n",
        "X_test=sc.fit_transform(X_test)# X_test also need to be scaled"
      ]
    },
    {
      "cell_type": "code",
      "execution_count": 30,
      "id": "2b410e32",
      "metadata": {
        "id": "2b410e32"
      },
      "outputs": [],
      "source": [
        "# after the train_test_split, X_train and X_test are np arrays\n",
        "# for the later featuer selection process, transfer the X_train and X_test into DataFrame\n",
        "X_train=pd.DataFrame(X_train,columns=[cols])\n",
        "X_test=pd.DataFrame(X_test,columns=[cols])"
      ]
    },
    {
      "cell_type": "markdown",
      "id": "13dff043",
      "metadata": {
        "id": "13dff043"
      },
      "source": [
        "# Model Training\n",
        "## Use 6 basic model with default values "
      ]
    },
    {
      "cell_type": "code",
      "execution_count": 31,
      "id": "2a64ad26",
      "metadata": {
        "colab": {
          "base_uri": "https://localhost:8080/"
        },
        "id": "2a64ad26",
        "outputId": "653483cb-3801-4cf9-cf13-60b6fec1e41d"
      },
      "outputs": [
        {
          "output_type": "stream",
          "name": "stdout",
          "text": [
            "LogisticRegression: 0.940\n",
            "DecisionTreeClassifier: 0.927\n",
            "RandomForestClassifier: 0.947\n",
            "SGDClassifier: 0.926\n",
            "SVC: 0.945\n",
            "KNeighborsClassifier: 0.922\n"
          ]
        }
      ],
      "source": [
        "from sklearn.linear_model import LogisticRegression\n",
        "from sklearn.tree import DecisionTreeClassifier\n",
        "from sklearn.ensemble import RandomForestClassifier\n",
        "from sklearn.svm import SVC\n",
        "from sklearn.neighbors import KNeighborsClassifier\n",
        "from sklearn.linear_model import SGDClassifier\n",
        "from sklearn.metrics import accuracy_score\n",
        "from sklearn.model_selection import cross_val_score\n",
        "\n",
        "# Initialize the models\n",
        "# define the random_state=42\n",
        "models = [\n",
        "    LogisticRegression(random_state=42),\n",
        "    DecisionTreeClassifier(random_state=42),\n",
        "    RandomForestClassifier(random_state=42),\n",
        "    SGDClassifier(random_state=42),\n",
        "    SVC(random_state=42),\n",
        "    KNeighborsClassifier()\n",
        "]\n",
        "\n",
        "# Train and evaluate the models\n",
        "for model in models:\n",
        "    # Train the model\n",
        "    model.fit(X_train, y_train)\n",
        "    #use the cross_val_score to calculate the scores\n",
        "    # use k-10 folds to calculate\n",
        "    model_scores=cross_val_score(model, X_train, y_train, cv=10)\n",
        "    # Print the model's mean cross_val_score\n",
        "    print(f'{model.__class__.__name__}: {model_scores.mean():.3f}')\n"
      ]
    },
    {
      "cell_type": "markdown",
      "id": "6df0f289",
      "metadata": {
        "id": "6df0f289"
      },
      "source": [
        "**Finding**\n",
        "  - Depends on the cross validation scores, the best model is the RandomForest\n",
        "  - Next I will continue to Optimise the model"
      ]
    },
    {
      "cell_type": "markdown",
      "id": "a4e2ef36",
      "metadata": {
        "id": "a4e2ef36"
      },
      "source": [
        "# Model Optimisation Using RandomForest"
      ]
    },
    {
      "cell_type": "markdown",
      "id": "d4dc49df",
      "metadata": {
        "id": "d4dc49df"
      },
      "source": [
        "## Use the Grid Model to Improve the Model"
      ]
    },
    {
      "cell_type": "code",
      "execution_count": 32,
      "id": "dc47ec78",
      "metadata": {
        "colab": {
          "base_uri": "https://localhost:8080/"
        },
        "id": "dc47ec78",
        "outputId": "9b7dfcc5-1ba0-4852-d7a2-54c84755eb21"
      },
      "outputs": [
        {
          "output_type": "stream",
          "name": "stdout",
          "text": [
            "Random Forest: Best score = 0.948, Best params = {'max_depth': 16, 'n_estimators': 100}\n"
          ]
        }
      ],
      "source": [
        "from sklearn.model_selection import GridSearchCV\n",
        "import random\n",
        "\n",
        "# Define the parameter grid for random forest\n",
        "random_forest_params = {'n_estimators': range(50,150,50), 'max_depth': range(10, 20,2)}\n",
        "\n",
        "# Create a GridSearchCV object for random forest\n",
        "random_forest_gs = GridSearchCV(RandomForestClassifier(random_state=42), random_forest_params, cv=10)\n",
        "\n",
        "# Fit the GridSearchCV object to the training data\n",
        "random_forest_gs.fit(X_train, y_train)\n",
        "\n",
        "# Print the best score and best parameters for random forest\n",
        "print(f'Random Forest: Best score = {random_forest_gs.best_score_:.3f}, Best params = {random_forest_gs.best_params_}')"
      ]
    },
    {
      "cell_type": "markdown",
      "id": "73d8a85c",
      "metadata": {
        "id": "73d8a85c"
      },
      "source": [
        "**Finding**\n",
        "   - Use the Grid Search, the Best score for Random Forest is 0.948,is better than the default score. the Best parameters are `max_depth` =16, `n_estimators`=100"
      ]
    },
    {
      "cell_type": "markdown",
      "id": "b1eca0f0",
      "metadata": {
        "id": "b1eca0f0"
      },
      "source": [
        "- Use the Best Parameters {'max_depth': 16, 'n_estimators': 100} to build a Random Forest Model"
      ]
    },
    {
      "cell_type": "code",
      "execution_count": 33,
      "id": "f8125dd5",
      "metadata": {
        "colab": {
          "base_uri": "https://localhost:8080/"
        },
        "id": "f8125dd5",
        "outputId": "c2a4e144-5b55-4700-b45b-0d494f474cdc"
      },
      "outputs": [
        {
          "output_type": "stream",
          "name": "stdout",
          "text": [
            "0.948\n"
          ]
        }
      ],
      "source": [
        "model_rfc=RandomForestClassifier(n_estimators=100,max_depth=16,random_state=42)\n",
        "model_rfc.fit(X_train, y_train)\n",
        "\n",
        "model_scores=cross_val_score(model_rfc, X_train, y_train, cv=10)\n",
        "\n",
        "print(f'{model_scores.mean():.3f}')"
      ]
    },
    {
      "cell_type": "markdown",
      "id": "8297cfcf",
      "metadata": {
        "id": "8297cfcf"
      },
      "source": [
        "## Feature Importance"
      ]
    },
    {
      "cell_type": "code",
      "execution_count": 34,
      "id": "6f52a11b",
      "metadata": {
        "colab": {
          "base_uri": "https://localhost:8080/"
        },
        "id": "6f52a11b",
        "outputId": "d95640e9-0f6a-4048-e868-50d935562e30"
      },
      "outputs": [
        {
          "output_type": "execute_result",
          "data": {
            "text/plain": [
              "length         0.234822\n",
              "carat          0.227141\n",
              "width          0.206093\n",
              "height         0.131341\n",
              "clarity        0.102736\n",
              "colour         0.046909\n",
              "depth_ratio    0.024026\n",
              "table          0.015230\n",
              "cut            0.011702\n",
              "dtype: float64"
            ]
          },
          "metadata": {},
          "execution_count": 34
        }
      ],
      "source": [
        "# view the feature scores\n",
        "feature_scores = pd.Series(model_rfc.feature_importances_, index=X_train.columns).sort_values(ascending=False)\n",
        "feature_scores"
      ]
    },
    {
      "cell_type": "markdown",
      "id": "805b200c",
      "metadata": {
        "id": "805b200c"
      },
      "source": [
        "**Finding**\n",
        "   - `length` is the most important features\n",
        "   - `cut` is the least important features"
      ]
    },
    {
      "cell_type": "markdown",
      "id": "c9747ef6",
      "metadata": {
        "id": "c9747ef6"
      },
      "source": [
        "## Try PCA "
      ]
    },
    {
      "cell_type": "code",
      "execution_count": 35,
      "id": "b38c0ee4",
      "metadata": {
        "colab": {
          "base_uri": "https://localhost:8080/"
        },
        "id": "b38c0ee4",
        "outputId": "a4d3d8d9-de7c-43fa-da8a-e52708f1cc21"
      },
      "outputs": [
        {
          "output_type": "stream",
          "name": "stdout",
          "text": [
            "0.9383130475594493\n"
          ]
        }
      ],
      "source": [
        "from sklearn.decomposition import PCA\n",
        "pca=PCA()# import the PCA \n",
        "X_train_new=pca.fit_transform(X_train) # build a new X_train\n",
        "model_rfc_pca=RandomForestClassifier(n_estimators=100,max_depth=18,random_state=42)# new model\n",
        "model_rfc_pca.fit(X_train_new, y_train)# use the PCA analysis to train the model\n",
        "\n",
        "model_scores_pca=cross_val_score(model_rfc_pca, X_train_new, y_train, cv=10)\n",
        "\n",
        "print(model_scores_pca.mean())"
      ]
    },
    {
      "cell_type": "markdown",
      "id": "2170076c",
      "metadata": {
        "id": "2170076c"
      },
      "source": [
        "**Fiding**\n",
        "- the model_scores.mean() is 0.938\n",
        "- Use the PCA, the model score are lower than before"
      ]
    },
    {
      "cell_type": "markdown",
      "id": "93751e3b",
      "metadata": {
        "id": "93751e3b"
      },
      "source": [
        "# Model Evaluation"
      ]
    },
    {
      "cell_type": "markdown",
      "id": "a6ff6097",
      "metadata": {
        "id": "a6ff6097"
      },
      "source": [
        "## Confusion matrix"
      ]
    },
    {
      "cell_type": "code",
      "execution_count": 36,
      "id": "ba66223e",
      "metadata": {
        "colab": {
          "base_uri": "https://localhost:8080/"
        },
        "id": "ba66223e",
        "outputId": "a730f8e4-734d-43fd-aad0-efb78211bdf8"
      },
      "outputs": [
        {
          "output_type": "stream",
          "name": "stdout",
          "text": [
            "Confusion matrix\n",
            "\n",
            " [[ 523   25    0]\n",
            " [  47 1000   27]\n",
            " [   0   33  343]]\n"
          ]
        }
      ],
      "source": [
        "# Print the Confusion Matrix and slice it into four pieces\n",
        "from sklearn.model_selection import cross_val_predict\n",
        "from sklearn.metrics import confusion_matrix\n",
        "\n",
        "y_pred = cross_val_predict(model_rfc, X_test, y_test, cv=10)\n",
        "cm = confusion_matrix(y_test, y_pred)\n",
        "print('Confusion matrix\\n\\n', cm)"
      ]
    },
    {
      "cell_type": "code",
      "execution_count": 37,
      "id": "63f4d1df",
      "metadata": {
        "colab": {
          "base_uri": "https://localhost:8080/",
          "height": 281
        },
        "id": "63f4d1df",
        "outputId": "0bbeab7c-2b6d-497f-dad1-d9a931cf16b9"
      },
      "outputs": [
        {
          "output_type": "display_data",
          "data": {
            "text/plain": [
              "<Figure size 432x288 with 2 Axes>"
            ],
            "image/png": "[encoded data removed]"
          },
          "metadata": {
            "needs_background": "light"
          }
        }
      ],
      "source": [
        "from sklearn.metrics import ConfusionMatrixDisplay\n",
        "plt.rc('font', size=9)  # extra code – make the text smaller\n",
        "ConfusionMatrixDisplay.from_predictions(y_test, y_pred)\n",
        "plt.show()"
      ]
    },
    {
      "cell_type": "markdown",
      "id": "cfbf6538",
      "metadata": {
        "id": "cfbf6538"
      },
      "source": [
        "## Classification Report"
      ]
    },
    {
      "cell_type": "code",
      "execution_count": 38,
      "id": "02dfda5a",
      "metadata": {
        "colab": {
          "base_uri": "https://localhost:8080/"
        },
        "id": "02dfda5a",
        "outputId": "dff8fe42-2d5d-4447-ab7a-51d69510b749"
      },
      "outputs": [
        {
          "output_type": "stream",
          "name": "stdout",
          "text": [
            "              precision    recall  f1-score   support\n",
            "\n",
            "           1       0.92      0.95      0.94       548\n",
            "           2       0.95      0.93      0.94      1074\n",
            "           3       0.93      0.91      0.92       376\n",
            "\n",
            "    accuracy                           0.93      1998\n",
            "   macro avg       0.93      0.93      0.93      1998\n",
            "weighted avg       0.93      0.93      0.93      1998\n",
            "\n"
          ]
        }
      ],
      "source": [
        "from sklearn.metrics import classification_report\n",
        "print(classification_report(y_test, y_pred))# use the classification_report to show the "
      ]
    },
    {
      "cell_type": "markdown",
      "id": "46d16de6",
      "metadata": {
        "id": "46d16de6"
      },
      "source": [
        "**Result:** \n",
        "   - Base on the Confusion Matrix and Classification Report\n",
        "   - Precision on 1 is 0.92, on 2 is 0.95, on 3 is 0.93: Precision is the proportion of true positives out of all predicted positives. High precision indicates that the model is correctly identifying positive cases.\n",
        "   - Recall on 1 is 0.95, on 2 is 0.93, on 3 is 0.91: Recall is the proportion of true positives out of all actual positives. High recall indicates that the model is correctly identifying all positive cases.\n",
        "   - F1 Score on 1 is 0.94, on 2 is 0.94, on 3 is 0.92: The F1 score is a weighted average of precision and recall. It ranges from 0 to 1, where 1 indicates perfect precision and recall.\n",
        "   - Support on 1 is 548, on 2 is 1074, on 3 is 376:refers to the number of observations or samples that belong to each class. It is the number of true instances (positive and negative) in the corresponding class in the dataset.\n",
        "   "
      ]
    },
    {
      "cell_type": "markdown",
      "id": "20e6ebc7",
      "metadata": {
        "id": "20e6ebc7"
      },
      "source": [
        "# Predictions for Any New Values"
      ]
    },
    {
      "cell_type": "markdown",
      "id": "93702f2a",
      "metadata": {
        "id": "93702f2a"
      },
      "source": [
        "- Finally, the model we train is the \n",
        "- To classify any new diamond in the three categories "
      ]
    },
    {
      "cell_type": "code",
      "execution_count": 39,
      "id": "bae6bde9",
      "metadata": {
        "id": "bae6bde9"
      },
      "outputs": [],
      "source": [
        "def get_input():\n",
        "    carat = float(input(\"Enter carat weight of the diamond: \"))\n",
        "    cut_map = {'Fair': 1, 'Good': 2, 'Very Good': 3, 'Premium': 4, 'Ideal': 5}\n",
        "    cut = input(\"Enter the cut of the diamond (Fair, Good, Very Good, Premium, Ideal): \")\n",
        "    cut_numeric = cut_map.get(cut)\n",
        "    \n",
        "    colour_map={'J':1,'I':2,'H':3,'G':4,'F':5,'E':6,'D':7}\n",
        "    colour = input(\"Enter the color of the diamond (D to J): \")\n",
        "    colour_numeric=colour_map.get(colour)\n",
        "    \n",
        "    clarity_map={'I1':1,'SI2':2,'SI1':3,'VS2':4,'VS1':5,'VVS2':6,'VVS1':7,'IF':8}\n",
        "    clarity = input(\"Enter the clarity of the diamond (I1 to IF): \")\n",
        "    clarity_numeric=clarity_map.get(clarity)\n",
        "    dimensions = input(\"Enter the length, width, and depth of the diamond separated by commas: \")\n",
        "    dimensions = [float(x.strip()) for x in dimensions.split(',')]\n",
        "    depth_ratio = float(input(\"Enter the depth percentage of the diamond: \"))\n",
        "    table = float(input(\"Enter the table percentage of the diamond: \"))\n",
        "    return pd.DataFrame({'carat': [carat], 'cut': [cut_numeric], 'colour': [colour_numeric], 'clarity': [clarity_numeric], 'length': [dimensions[0]], 'width': [dimensions[1]], 'height': [dimensions[2]], 'depth_ratio': [depth_ratio],'table': [table]})"
      ]
    },
    {
      "cell_type": "code",
      "execution_count": 40,
      "id": "93386850",
      "metadata": {
        "colab": {
          "base_uri": "https://localhost:8080/"
        },
        "id": "93386850",
        "outputId": "29e3996b-50e1-4e10-e616-50b7c70bee29"
      },
      "outputs": [
        {
          "output_type": "stream",
          "name": "stdout",
          "text": [
            "Enter carat weight of the diamond: 20\n",
            "Enter the cut of the diamond (Fair, Good, Very Good, Premium, Ideal): Good\n",
            "Enter the color of the diamond (D to J): J\n",
            "Enter the clarity of the diamond (I1 to IF): I1\n",
            "Enter the length, width, and depth of the diamond separated by commas: 10,20,30\n",
            "Enter the depth percentage of the diamond: 50\n",
            "Enter the table percentage of the diamond: 40\n",
            "Diamond Grading is ['High']\n"
          ]
        }
      ],
      "source": [
        "diamond_predict=model_rfc.predict(get_input())\n",
        "predicted_labels = ['Low' if p == 1 else 'Mid' if p == 2 else 'High' for p in diamond_predict]\n",
        "print(f\"Diamond Grading is {predicted_labels}\")"
      ]
    }
  ],
  "metadata": {
    "kernelspec": {
      "display_name": "Python 3 (ipykernel)",
      "language": "python",
      "name": "python3"
    },
    "language_info": {
      "codemirror_mode": {
        "name": "ipython",
        "version": 3
      },
      "file_extension": ".py",
      "mimetype": "text/x-python",
      "name": "python",
      "nbconvert_exporter": "python",
      "pygments_lexer": "ipython3",
      "version": "3.9.12"
    },
    "toc": {
      "base_numbering": "1",
      "nav_menu": {},
      "number_sections": true,
      "sideBar": true,
      "skip_h1_title": false,
      "title_cell": "Table of Contents",
      "title_sidebar": "Contents",
      "toc_cell": true,
      "toc_position": {
        "height": "calc(100% - 180px)",
        "left": "10px",
        "top": "150px",
        "width": "165px"
      },
      "toc_section_display": true,
      "toc_window_display": true
    },
    "colab": {
      "provenance": [],
      "toc_visible": true
    }
  },
  "nbformat": 4,
  "nbformat_minor": 5
}